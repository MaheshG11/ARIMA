{
 "cells": [
  {
   "cell_type": "code",
   "execution_count": 1,
   "metadata": {},
   "outputs": [
    {
     "data": {
      "text/html": [
       "<div>\n",
       "<style scoped>\n",
       "    .dataframe tbody tr th:only-of-type {\n",
       "        vertical-align: middle;\n",
       "    }\n",
       "\n",
       "    .dataframe tbody tr th {\n",
       "        vertical-align: top;\n",
       "    }\n",
       "\n",
       "    .dataframe thead th {\n",
       "        text-align: right;\n",
       "    }\n",
       "</style>\n",
       "<table border=\"1\" class=\"dataframe\">\n",
       "  <thead>\n",
       "    <tr style=\"text-align: right;\">\n",
       "      <th></th>\n",
       "      <th>Value</th>\n",
       "    </tr>\n",
       "    <tr>\n",
       "      <th>date</th>\n",
       "      <th></th>\n",
       "    </tr>\n",
       "  </thead>\n",
       "  <tbody>\n",
       "    <tr>\n",
       "      <th>1993-01</th>\n",
       "      <td>702157.6</td>\n",
       "    </tr>\n",
       "    <tr>\n",
       "      <th>1993-02</th>\n",
       "      <td>2726925.3</td>\n",
       "    </tr>\n",
       "    <tr>\n",
       "      <th>1993-03</th>\n",
       "      <td>4730318.6</td>\n",
       "    </tr>\n",
       "    <tr>\n",
       "      <th>1993-04</th>\n",
       "      <td>7378367.8</td>\n",
       "    </tr>\n",
       "    <tr>\n",
       "      <th>1993-05</th>\n",
       "      <td>11680753.4</td>\n",
       "    </tr>\n",
       "    <tr>\n",
       "      <th>...</th>\n",
       "      <td>...</td>\n",
       "    </tr>\n",
       "    <tr>\n",
       "      <th>1998-08</th>\n",
       "      <td>150639332.7</td>\n",
       "    </tr>\n",
       "    <tr>\n",
       "      <th>1998-09</th>\n",
       "      <td>148297693.4</td>\n",
       "    </tr>\n",
       "    <tr>\n",
       "      <th>1998-10</th>\n",
       "      <td>151889623.6</td>\n",
       "    </tr>\n",
       "    <tr>\n",
       "      <th>1998-11</th>\n",
       "      <td>148842093.6</td>\n",
       "    </tr>\n",
       "    <tr>\n",
       "      <th>1998-12</th>\n",
       "      <td>171697093.7</td>\n",
       "    </tr>\n",
       "  </tbody>\n",
       "</table>\n",
       "<p>72 rows × 1 columns</p>\n",
       "</div>"
      ],
      "text/plain": [
       "               Value\n",
       "date                \n",
       "1993-01     702157.6\n",
       "1993-02    2726925.3\n",
       "1993-03    4730318.6\n",
       "1993-04    7378367.8\n",
       "1993-05   11680753.4\n",
       "...              ...\n",
       "1998-08  150639332.7\n",
       "1998-09  148297693.4\n",
       "1998-10  151889623.6\n",
       "1998-11  148842093.6\n",
       "1998-12  171697093.7\n",
       "\n",
       "[72 rows x 1 columns]"
      ]
     },
     "execution_count": 1,
     "metadata": {},
     "output_type": "execute_result"
    }
   ],
   "source": [
    "import numpy as np\n",
    "import pandas as pd\n",
    "import matplotlib.pyplot as plt\n",
    "import seaborn as sns\n",
    "from sklearn.metrics import mean_squared_error\n",
    "from statsmodels.tsa.stattools import adfuller\n",
    "from statsmodels.graphics.tsaplots import plot_acf,plot_pacf\n",
    "from sklearn.linear_model import LinearRegression\n",
    "import warnings\n",
    "warnings.filterwarnings(\"ignore\")\n",
    "\n",
    "\n",
    "df = pd.read_csv('df.csv',parse_dates=True,index_col='date')\n",
    "df = pd.DataFrame(df.groupby(df.index.strftime('%Y-%m')).sum()['amount'])\n",
    "df.columns=['Value']\n",
    "df"
   ]
  },
  {
   "cell_type": "markdown",
   "metadata": {},
   "source": [
    "<h1> Part 1 : Differencing"
   ]
  },
  {
   "cell_type": "code",
   "execution_count": 2,
   "metadata": {},
   "outputs": [],
   "source": [
    "def adf_check(time_series):\n",
    "    \"\"\"\n",
    "    Pass in a time series, returns ADF report\n",
    "    \"\"\"\n",
    "    result = adfuller(time_series)\n",
    "    print (result)\n",
    "    print('Augmented Dickey-Fuller Test:')\n",
    "    labels = ['ADF Test Statistic','p-value','Number of Lags Used','Number of Observations Used', \"Critical Values\"]\n",
    "\n",
    "    for value,label in zip(result,labels):\n",
    "        print(label+' : '+str(value) )\n",
    "    \n",
    "    if result[1] < min([result[4][\"1%\"],result[4][\"5%\"],result[4][\"10%\"]]):\n",
    "        print(\"strong evidence against the null hypothesis, reject the null hypothesis. Data has no unit root and is stationary\")\n",
    "    else:\n",
    "        print(\"weak evidence against null hypothesis, time series has a unit root, indicating it is non-stationary \\n\")"
   ]
  },
  {
   "cell_type": "code",
   "execution_count": 3,
   "metadata": {},
   "outputs": [
    {
     "name": "stdout",
     "output_type": "stream",
     "text": [
      "(-5.225226609713747, 7.80717692014732e-06, 3, 55, {'1%': -3.5552728880540942, '5%': -2.9157312396694217, '10%': -2.5956695041322315}, -195.51743097379642)\n",
      "Augmented Dickey-Fuller Test:\n",
      "ADF Test Statistic : -5.225226609713747\n",
      "p-value : 7.80717692014732e-06\n",
      "Number of Lags Used : 3\n",
      "Number of Observations Used : 55\n",
      "Critical Values : {'1%': -3.5552728880540942, '5%': -2.9157312396694217, '10%': -2.5956695041322315}\n",
      "weak evidence against null hypothesis, time series has a unit root, indicating it is non-stationary \n",
      "\n"
     ]
    }
   ],
   "source": [
    "def I(df,order1,order2):\n",
    "    df_testing = pd.DataFrame(np.log(df.Value).diff().diff(12))\n",
    "    adf_check(df_testing.Value.dropna())"
   ]
  },
  {
   "cell_type": "code",
   "execution_count": 6,
   "metadata": {},
   "outputs": [
    {
     "name": "stdout",
     "output_type": "stream",
     "text": [
      "(-5.225226609713747, 7.80717692014732e-06, 3, 55, {'1%': -3.5552728880540942, '5%': -2.9157312396694217, '10%': -2.5956695041322315}, -195.51743097379642)\n",
      "Augmented Dickey-Fuller Test:\n",
      "ADF Test Statistic : -5.225226609713747\n",
      "p-value : 7.80717692014732e-06\n",
      "Number of Lags Used : 3\n",
      "Number of Observations Used : 55\n",
      "Critical Values : {'1%': -3.5552728880540942, '5%': -2.9157312396694217, '10%': -2.5956695041322315}\n",
      "weak evidence against null hypothesis, time series has a unit root, indicating it is non-stationary \n",
      "\n"
     ]
    }
   ],
   "source": [
    "\n"
   ]
  },
  {
   "cell_type": "markdown",
   "metadata": {},
   "source": [
    "<br></br>\n",
    "<h1>Part 2: AR Auto-Regressive"
   ]
  },
  {
   "cell_type": "code",
   "execution_count": 4,
   "metadata": {},
   "outputs": [
    {
     "name": "stdout",
     "output_type": "stream",
     "text": [
      "<class 'pandas.core.series.Series'>\n",
      "11159273.635675408\n"
     ]
    },
    {
     "data": {
      "text/plain": [
       "10"
      ]
     },
     "execution_count": 4,
     "metadata": {},
     "output_type": "execute_result"
    }
   ],
   "source": [
    "def AR(p,df):\n",
    "    df_temp=df.copy()\n",
    "    \n",
    "    for i in range(1,p+1):\n",
    "        df_temp[f'Value_Lag {i}']=df_temp[\"Value\"].shift(i)\n",
    "    \n",
    "    df_temp=df_temp.dropna()\n",
    "    train_size= (int)(.8*df_temp.shape[0])\n",
    "    train=df_temp[0:train_size]\n",
    "    x=train.iloc[:,1:]\n",
    "    y=train.iloc[:,0]\n",
    "    \n",
    "    test=df_temp[train_size::]\n",
    "    y_t=test.iloc[:,0]\n",
    "    x_t=test.iloc[:,1:]\n",
    "    lr=LinearRegression()\n",
    "    lr.fit(x,y)\n",
    "    theta=lr.coef_\n",
    "    intercept=lr.intercept_\n",
    "    train['Predicted_Values'] = x.dot(lr.coef_.T) + lr.intercept_\n",
    "    test['Predicted_Values']=x_t.dot(theta)+intercept\n",
    "  \n",
    "    RMSE=np.sqrt(mean_squared_error(test['Value'],test['Predicted_Values']))\n",
    "    print(type(train[\"Predicted_Values\"]))\n",
    "    residuals=pd.DataFrame(df_temp['Value']-pd.concat([train['Predicted_Values'],test['Predicted_Values']]),columns=['Residuals'])\n",
    "    print(RMSE)\n",
    "    return [train,test,RMSE,residuals]\n"
   ]
  },
  {
   "cell_type": "markdown",
   "metadata": {},
   "source": [
    "<h1>Part 3 - MA : Moving Average"
   ]
  },
  {
   "cell_type": "code",
   "execution_count": 5,
   "metadata": {},
   "outputs": [
    {
     "name": "stdout",
     "output_type": "stream",
     "text": [
      "11159273.635675408\n"
     ]
    },
    {
     "data": {
      "text/plain": [
       "10"
      ]
     },
     "execution_count": 5,
     "metadata": {},
     "output_type": "execute_result"
    }
   ],
   "source": [
    "def MA(q,res):#residuals\n",
    "    res_temp=res.copy()\n",
    "    \n",
    "    for i in range(1,q+1):\n",
    "        res_temp[f'Residual_Lag {i}']=res_temp[\"Value\"].shift(i)\n",
    "    \n",
    "    res_temp=res_temp.dropna()\n",
    "    train_size= (int)(.8*res_temp.shape[0])\n",
    "    train=res_temp[0:train_size]\n",
    "    x=train.iloc[:,1:]\n",
    "    y=train.iloc[:,0]\n",
    "    \n",
    "    test=res_temp[train_size::]\n",
    "    y_t=test.iloc[:,0]\n",
    "    x_t=test.iloc[:,1:]\n",
    "    lr=LinearRegression()\n",
    "    lr.fit(x,y)\n",
    "    theta=lr.coef_\n",
    "    intercept=lr.intercept_\n",
    "    train['Predicted_Values'] = x.dot(lr.coef_.T) + lr.intercept_\n",
    "    test['Predicted_Values']=x_t.dot(theta)+intercept\n",
    "    res_temp['Residue']=pd.concat([train['Predicted_Values'],test[\"Predicted_Values\"]])\n",
    "    RMSE=np.sqrt(mean_squared_error(test['Value'],test['Predicted_Values']))\n",
    "    \n",
    "    print(RMSE)\n",
    "    return\n"
   ]
  },
  {
   "cell_type": "code",
   "execution_count": null,
   "metadata": {},
   "outputs": [],
   "source": []
  }
 ],
 "metadata": {
  "kernelspec": {
   "display_name": "env",
   "language": "python",
   "name": "python3"
  },
  "language_info": {
   "codemirror_mode": {
    "name": "ipython",
    "version": 3
   },
   "file_extension": ".py",
   "mimetype": "text/x-python",
   "name": "python",
   "nbconvert_exporter": "python",
   "pygments_lexer": "ipython3",
   "version": "3.10.12"
  }
 },
 "nbformat": 4,
 "nbformat_minor": 2
}
